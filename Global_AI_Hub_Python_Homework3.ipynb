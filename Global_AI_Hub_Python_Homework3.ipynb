{
  "nbformat": 4,
  "nbformat_minor": 0,
  "metadata": {
    "colab": {
      "name": "Global-AI-Hub-Python-Homework3.ipynb",
      "provenance": [],
      "authorship_tag": "ABX9TyM+wUVf2kiHnfICnkVLzU9a",
      "include_colab_link": true
    },
    "kernelspec": {
      "name": "python3",
      "display_name": "Python 3"
    },
    "language_info": {
      "name": "python"
    }
  },
  "cells": [
    {
      "cell_type": "markdown",
      "metadata": {
        "id": "view-in-github",
        "colab_type": "text"
      },
      "source": [
        "<a href=\"https://colab.research.google.com/github/Ntelhon/Global-AI-Hub-Python/blob/main/Global_AI_Hub_Python_Homework3.ipynb\" target=\"_parent\"><img src=\"https://colab.research.google.com/assets/colab-badge.svg\" alt=\"Open In Colab\"/></a>"
      ]
    },
    {
      "cell_type": "code",
      "metadata": {
        "colab": {
          "base_uri": "https://localhost:8080/"
        },
        "id": "4XCpFpA7M1D_",
        "outputId": "3e5a77a1-ded4-4754-ac1e-0093f8960109"
      },
      "source": [
        "#Furkan Karabulut\n",
        "#29/05/2021\n",
        "#Global AI Hub Python Course HomeWork 3\n",
        "\n",
        "import random as rnd\n",
        "\n",
        "def getNames():\n",
        "  namesOk = False\n",
        "  while not namesOk:\n",
        "    names = input(\"Lütfen aralarında birer boşluk bırakarak en az 5 adet isim yazınız: \").split()\n",
        "    if len(names) < 5:\n",
        "      print(\"Yanlış formatta ya da eksik isim girdiniz!\")\n",
        "    else:\n",
        "      namesOk = True\n",
        "      return names\n",
        "\n",
        "def setNotes(names):\n",
        "  i = 0\n",
        "  students = list()\n",
        "  for name in names:\n",
        "    upName = name.capitalize()\n",
        "    mid = rnd.randint(0,100)\n",
        "    project = rnd.randint(0,100)\n",
        "    final = rnd.randint(0,100)\n",
        "    passing = mid * 0.3 + project * 0.3 + final * 0.4\n",
        "    info = {\"Name\":upName, \"MidtermGrade\":mid, \"ProjectGrade\":project, \"FinalGrade\":final, \"PassingGrade\":float(\"{:.2f}\".format(passing))}\n",
        "    students.append(info)\n",
        "    i += 1\n",
        "  return students\n",
        "\n",
        "names = getNames()\n",
        "datas = setNotes(names)\n",
        "for data in datas:\n",
        "  print(data)"
      ],
      "execution_count": 21,
      "outputs": [
        {
          "output_type": "stream",
          "text": [
            "Lütfen aralarında birer boşluk bırakarak en az 5 adet isim yazınız: asd ert vbn ghkj uıo klş\n",
            "{'Name': 'Asd', 'MidtermGrade': 72, 'ProjectGrade': 85, 'FinalGrade': 71, 'PassingGrade': 75.5}\n",
            "{'Name': 'Ert', 'MidtermGrade': 12, 'ProjectGrade': 65, 'FinalGrade': 2, 'PassingGrade': 23.9}\n",
            "{'Name': 'Vbn', 'MidtermGrade': 92, 'ProjectGrade': 42, 'FinalGrade': 53, 'PassingGrade': 61.4}\n",
            "{'Name': 'Ghkj', 'MidtermGrade': 12, 'ProjectGrade': 71, 'FinalGrade': 42, 'PassingGrade': 41.7}\n",
            "{'Name': 'Uıo', 'MidtermGrade': 94, 'ProjectGrade': 23, 'FinalGrade': 7, 'PassingGrade': 37.9}\n",
            "{'Name': 'Klş', 'MidtermGrade': 30, 'ProjectGrade': 12, 'FinalGrade': 61, 'PassingGrade': 37.0}\n"
          ],
          "name": "stdout"
        }
      ]
    },
    {
      "cell_type": "code",
      "metadata": {
        "id": "B8J6p_UiNpiK"
      },
      "source": [
        ""
      ],
      "execution_count": null,
      "outputs": []
    }
  ]
}