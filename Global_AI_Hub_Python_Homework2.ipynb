{
  "nbformat": 4,
  "nbformat_minor": 0,
  "metadata": {
    "colab": {
      "name": "Global-AI-Hub-Python-Homework2.ipynb",
      "provenance": [],
      "collapsed_sections": [],
      "authorship_tag": "ABX9TyOFaVUfQ7nDhQ1l2uKX+yez",
      "include_colab_link": true
    },
    "kernelspec": {
      "name": "python3",
      "display_name": "Python 3"
    },
    "language_info": {
      "name": "python"
    }
  },
  "cells": [
    {
      "cell_type": "markdown",
      "metadata": {
        "id": "view-in-github",
        "colab_type": "text"
      },
      "source": [
        "<a href=\"https://colab.research.google.com/github/Ntelhon/Global-AI-Hub-Python/blob/main/Global_AI_Hub_Python_Homework2.ipynb\" target=\"_parent\"><img src=\"https://colab.research.google.com/assets/colab-badge.svg\" alt=\"Open In Colab\"/></a>"
      ]
    },
    {
      "cell_type": "code",
      "metadata": {
        "colab": {
          "base_uri": "https://localhost:8080/"
        },
        "id": "zeai_qAFADXC",
        "outputId": "061c82cb-a04f-4105-e81e-84543a805595"
      },
      "source": [
        "#Furkan Karabulut\n",
        "#27/05/2021\n",
        "#Global AI Hub Python Course HomeWork 2\n",
        "\n",
        "person0 = {\"Name\":\"Korhan\", \"Surname\":\"Karabulut\", \"Age\":-0.5, \"Gender\":\"Male\", \"E-mail\":\"korhank@korhanas.com\", \"Sector\":\"Production\", \"Languages\":[\"TR\", \"EN\", \"DE\"]}\n",
        "person1 = {\"Name\":\"Orhan\", \"Surname\":\"Aydoğan\", \"Age\":26, \"Gender\":\"Male\", \"E-mail\":\"orhana@orhanas.com\", \"Sector\":\"Sale\", \"Languages\":[\"TR\", \"EN\", \"ES\"]}\n",
        "person2 = {\"Name\":\"İlhan\", \"Surname\":\"Güneş\", \"Age\":53, \"Gender\":\"Male\", \"E-mail\":\"ilhang@ilhanas.com\", \"Sector\":\"Community\", \"Languages\":[\"TR\", \"EN\"]}\n",
        "person3 = {\"Name\":\"Gökhan\", \"Surname\":\"Yılmaz\", \"Age\":32, \"Gender\":\"Male\", \"E-mail\":\"gokhany@gokhanas.com\", \"Sector\":\"Human Resources\", \"Languages\":[\"TR\", \"EN\", \"DE\", \"FR\"]}\n",
        "person4 = {\"Name\":\"Fatma\", \"Surname\":\"Dinç\", \"Age\":29, \"Gender\":\"Female\", \"E-mail\":\"fatmad@fatmaas.com\", \"Sector\":\"Managment\", \"Languages\":[\"TR\", \"EN\", \"HI\", \"ZH\"]}\n",
        "\n",
        "'''personNum = -1\n",
        "while personNum == -1:\n",
        "  for i in range(2):\n",
        "    a = \"person\" + str(i)\n",
        "    b = list(a)\n",
        "    print(b)\n",
        "  personNum = 0'''\n",
        "\n",
        "CVs = list()\n",
        "CVs.append(person0)\n",
        "CVs.append(person1)\n",
        "CVs.append(person2)\n",
        "CVs.append(person3)\n",
        "CVs.append(person4)\n",
        "\n",
        "i = 0\n",
        "while i < len(CVs):\n",
        "  print(CVs[i])\n",
        "  i += 1\n"
      ],
      "execution_count": 10,
      "outputs": [
        {
          "output_type": "stream",
          "text": [
            "{'Name': 'Korhan', 'Surname': 'Karabulut', 'Age': -0.5, 'Gender': 'Male', 'E-mail': 'korhank@korhanas.com', 'Sector': 'Production', 'Languages': ['TR', 'EN', 'DE']}\n",
            "{'Name': 'Orhan', 'Surname': 'Aydoğan', 'Age': 26, 'Gender': 'Male', 'E-mail': 'orhana@orhanas.com', 'Sector': 'Sale', 'Languages': ['TR', 'EN', 'ES']}\n",
            "{'Name': 'İlhan', 'Surname': 'Güneş', 'Age': 53, 'Gender': 'Male', 'E-mail': 'ilhang@ilhanas.com', 'Sector': 'Community', 'Languages': ['TR', 'EN']}\n",
            "{'Name': 'Gökhan', 'Surname': 'Yılmaz', 'Age': 32, 'Gender': 'Male', 'E-mail': 'gokhany@gokhanas.com', 'Sector': 'Human Resources', 'Languages': ['TR', 'EN', 'DE', 'FR']}\n",
            "{'Name': 'Fatma', 'Surname': 'Dinç', 'Age': 29, 'Gender': 'Female', 'E-mail': 'fatmad@fatmaas.com', 'Sector': 'Managment', 'Languages': ['TR', 'EN', 'HI', 'ZH']}\n"
          ],
          "name": "stdout"
        }
      ]
    }
  ]
}