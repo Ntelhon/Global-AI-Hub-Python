{
  "nbformat": 4,
  "nbformat_minor": 0,
  "metadata": {
    "colab": {
      "name": "Global-AI-Hub-Python-Homework1.ipynb",
      "provenance": [],
      "collapsed_sections": [],
      "authorship_tag": "ABX9TyM0/dUgw2C5w3g7gAulNSHC",
      "include_colab_link": true
    },
    "kernelspec": {
      "name": "python3",
      "display_name": "Python 3"
    },
    "language_info": {
      "name": "python"
    }
  },
  "cells": [
    {
      "cell_type": "markdown",
      "metadata": {
        "id": "view-in-github",
        "colab_type": "text"
      },
      "source": [
        "<a href=\"https://colab.research.google.com/github/Ntelhon/Global-AI-Hub-Python/blob/main/Global_AI_Hub_Python_Homework1.ipynb\" target=\"_parent\"><img src=\"https://colab.research.google.com/assets/colab-badge.svg\" alt=\"Open In Colab\"/></a>"
      ]
    },
    {
      "cell_type": "code",
      "metadata": {
        "id": "FU3Ty_6qTMNy"
      },
      "source": [
        "#Furkan Karabulut\n",
        "#26/05/2021\n",
        "#Global AI Hub Pyton Course HomeWork 1\n",
        "\n",
        "list1 = list()\n",
        "list2 = list()\n",
        "for i in range(100):\n",
        "  if i % 2 == 0:\n",
        "    list1.append(i)\n",
        "  else:\n",
        "    list2.append(i)\n",
        "\n",
        "merge = list1 + list2\n",
        "\n",
        "a = 0\n",
        "for i in merge:\n",
        "  merge[a] *= 2\n",
        "  a += 1\n",
        "\n",
        "for i in merge:\n",
        "  print(f\"Data type: {type(i)} --- Value: {i}\")"
      ],
      "execution_count": null,
      "outputs": []
    }
  ]
}